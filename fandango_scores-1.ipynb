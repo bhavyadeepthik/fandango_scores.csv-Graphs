{
 "cells": [
  {
   "cell_type": "markdown",
   "metadata": {},
   "source": [
    "# Histograms and mustache boxes\n"
   ]
  },
  {
   "cell_type": "code",
   "execution_count": 2,
   "metadata": {},
   "outputs": [
    {
     "data": {
      "text/html": [
       "<div>\n",
       "<style scoped>\n",
       "    .dataframe tbody tr th:only-of-type {\n",
       "        vertical-align: middle;\n",
       "    }\n",
       "\n",
       "    .dataframe tbody tr th {\n",
       "        vertical-align: top;\n",
       "    }\n",
       "\n",
       "    .dataframe thead th {\n",
       "        text-align: right;\n",
       "    }\n",
       "</style>\n",
       "<table border=\"1\" class=\"dataframe\">\n",
       "  <thead>\n",
       "    <tr style=\"text-align: right;\">\n",
       "      <th></th>\n",
       "      <th>FILM</th>\n",
       "      <th>RT_user_norm</th>\n",
       "      <th>Metacritic_User</th>\n",
       "      <th>IMDB_norm</th>\n",
       "      <th>Fandango_Ratingvalue</th>\n",
       "      <th>Fandango_Stars</th>\n",
       "    </tr>\n",
       "  </thead>\n",
       "  <tbody>\n",
       "    <tr>\n",
       "      <th>0</th>\n",
       "      <td>Avengers: Age of Ultron (2015)</td>\n",
       "      <td>4.3</td>\n",
       "      <td>7.1</td>\n",
       "      <td>3.90</td>\n",
       "      <td>4.5</td>\n",
       "      <td>5.0</td>\n",
       "    </tr>\n",
       "    <tr>\n",
       "      <th>1</th>\n",
       "      <td>Cinderella (2015)</td>\n",
       "      <td>4.0</td>\n",
       "      <td>7.5</td>\n",
       "      <td>3.55</td>\n",
       "      <td>4.5</td>\n",
       "      <td>5.0</td>\n",
       "    </tr>\n",
       "    <tr>\n",
       "      <th>2</th>\n",
       "      <td>Ant-Man (2015)</td>\n",
       "      <td>4.5</td>\n",
       "      <td>8.1</td>\n",
       "      <td>3.90</td>\n",
       "      <td>4.5</td>\n",
       "      <td>5.0</td>\n",
       "    </tr>\n",
       "    <tr>\n",
       "      <th>3</th>\n",
       "      <td>Do You Believe? (2015)</td>\n",
       "      <td>4.2</td>\n",
       "      <td>4.7</td>\n",
       "      <td>2.70</td>\n",
       "      <td>4.5</td>\n",
       "      <td>5.0</td>\n",
       "    </tr>\n",
       "    <tr>\n",
       "      <th>4</th>\n",
       "      <td>Hot Tub Time Machine 2 (2015)</td>\n",
       "      <td>1.4</td>\n",
       "      <td>3.4</td>\n",
       "      <td>2.55</td>\n",
       "      <td>3.0</td>\n",
       "      <td>3.5</td>\n",
       "    </tr>\n",
       "  </tbody>\n",
       "</table>\n",
       "</div>"
      ],
      "text/plain": [
       "                             FILM  RT_user_norm  Metacritic_User  IMDB_norm  \\\n",
       "0  Avengers: Age of Ultron (2015)           4.3              7.1       3.90   \n",
       "1               Cinderella (2015)           4.0              7.5       3.55   \n",
       "2                  Ant-Man (2015)           4.5              8.1       3.90   \n",
       "3          Do You Believe? (2015)           4.2              4.7       2.70   \n",
       "4   Hot Tub Time Machine 2 (2015)           1.4              3.4       2.55   \n",
       "\n",
       "   Fandango_Ratingvalue  Fandango_Stars  \n",
       "0                   4.5             5.0  \n",
       "1                   4.5             5.0  \n",
       "2                   4.5             5.0  \n",
       "3                   4.5             5.0  \n",
       "4                   3.0             3.5  "
      ]
     },
     "execution_count": 2,
     "metadata": {},
     "output_type": "execute_result"
    }
   ],
   "source": [
    "import numpy as np\n",
    "import pandas as pd\n",
    "import seaborn as sns\n",
    "%matplotlib inline\n",
    "import matplotlib.pyplot as plt\n",
    "df = pd.read_csv('fandango_scores.csv')\n",
    "norm_reviews = df[['FILM','RT_user_norm','Metacritic_User','IMDB_norm','Fandango_Ratingvalue','Fandango_Stars']]\n",
    "norm_reviews.head()"
   ]
  },
  {
   "cell_type": "markdown",
   "metadata": {},
   "source": [
    "## Frequency distribution\n"
   ]
  },
  {
   "cell_type": "markdown",
   "metadata": {},
   "source": [
    "- Use the value_counts() method to return the frequency count of the 'IMDB_norm' column. Sort the resulting Series object by its index and assign the result to the variable imdb_distribution.\n",
    "- Display the result.\n"
   ]
  },
  {
   "cell_type": "code",
   "execution_count": 3,
   "metadata": {},
   "outputs": [
    {
     "data": {
      "text/plain": [
       "3.60    10\n",
       "3.30     9\n",
       "3.15     9\n",
       "3.90     9\n",
       "3.70     8\n",
       "3.45     7\n",
       "3.55     7\n",
       "3.35     7\n",
       "3.75     6\n",
       "3.20     6\n",
       "2.75     5\n",
       "3.65     5\n",
       "3.50     4\n",
       "2.70     4\n",
       "3.05     4\n",
       "4.10     4\n",
       "3.25     4\n",
       "3.85     4\n",
       "3.80     3\n",
       "2.95     3\n",
       "2.60     2\n",
       "4.20     2\n",
       "2.45     2\n",
       "2.30     2\n",
       "3.95     2\n",
       "2.80     2\n",
       "3.00     2\n",
       "4.00     1\n",
       "3.10     1\n",
       "2.00     1\n",
       "2.50     1\n",
       "2.85     1\n",
       "4.05     1\n",
       "4.15     1\n",
       "2.20     1\n",
       "4.30     1\n",
       "2.55     1\n",
       "2.15     1\n",
       "3.40     1\n",
       "2.90     1\n",
       "2.10     1\n",
       "Name: IMDB_norm, dtype: int64"
      ]
     },
     "execution_count": 3,
     "metadata": {},
     "output_type": "execute_result"
    }
   ],
   "source": [
    "imdb_distribution = pd.Index(norm_reviews[\"IMDB_norm\"],sort=True)\n",
    "imdb_distribution.value_counts()"
   ]
  },
  {
   "cell_type": "markdown",
   "metadata": {},
   "source": [
    "## [ Matplotlib ] ##[Continues] The histograms with Matplotlib ##\n"
   ]
  },
  {
   "cell_type": "markdown",
   "metadata": {},
   "source": [
    "- Create a subgraph and assign the objects Figure to the variable fig and Axes to the variable ax.\n",
    "- Generate a histogram of the values in the column 'Fandango_Ratingvalue' using a range from 0 to 5.\n",
    "- Use plt.show() to display the graph.\n"
   ]
  },
  {
   "cell_type": "code",
   "execution_count": 4,
   "metadata": {},
   "outputs": [
    {
     "data": {
      "image/png": "[encoded data removed]",
      "text/plain": [
       "<Figure size 432x288 with 1 Axes>"
      ]
     },
     "metadata": {
      "needs_background": "light"
     },
     "output_type": "display_data"
    }
   ],
   "source": [
    "fig, (ax) = plt.subplots(nrows=1,ncols=1)\n",
    "ax.hist(norm_reviews[\"Fandango_Ratingvalue\"])\n",
    "plt.show()"
   ]
  },
  {
   "cell_type": "markdown",
   "metadata": {},
   "source": [
    "## Comparison of histograms\n"
   ]
  },
  {
   "cell_type": "markdown",
   "metadata": {},
   "source": [
    "Draw a graph with 4 subgraphs:\n",
    "- For the subgraph associated with the variable ax1:\n",
    ">- Generate a histogram of the values in the column 'Fandango_Ratingvalue' using 20 classes (bins) and an interval from 0 to 5.\n",
    "- For the subgraph associated with the variable ax2:\n",
    ">- Generate a histogram of the values of the column 'RT_user_norm' using 20 classes (bins) and an interval from 0 to 5\n",
    "- For the subgraph associated with the variable ax3:\n",
    ">- Generate a histogram of the values of the column 'Metacritic_user_name' using 20 classes (bins) and an interval from 0 to 5\n",
    "- For the subgraph associated with the variable ax4:\n",
    ">- Generate a histogram of the values of the column 'IMDB_norm' using 20 classes (bins) and an interval from 0 to 5\n",
    "- For all graphs set the range on the y-axis from 0 to 50 using Axes.set_ylim() and choose a title.\n",
    "- Display the histograms.\n"
   ]
  },
  {
   "cell_type": "code",
   "execution_count": 4,
   "metadata": {},
   "outputs": [
    {
     "data": {
      "image/png": "[encoded data removed]",
      "text/plain": [
       "<Figure size 720x720 with 4 Axes>"
      ]
     },
     "metadata": {
      "needs_background": "light"
     },
     "output_type": "display_data"
    }
   ],
   "source": [
    "fig, (ax1,ax2,ax3,ax4) = plt.subplots(nrows=4,ncols=1,figsize =(10,10))\n",
    "ax1.hist(norm_reviews[\"Fandango_Ratingvalue\"],bins=20)\n",
    "ax1.set_xlim(0,5)\n",
    "ax1.set_ylim(0,50) \n",
    "ax2.hist(norm_reviews[\"RT_user_norm\"],bins=20)\n",
    "ax2.set_xlim(0,5)\n",
    "ax2.set_ylim(0,50)\n",
    "ax3.hist(norm_reviews[\"Metacritic_User\"],bins=20)\n",
    "ax3.set_xlim(0,5)\n",
    "ax3.set_ylim(0,50)\n",
    "ax4.hist(norm_reviews[\"IMDB_norm\"],bins=20)\n",
    "ax4.set_xlim(0,5)\n",
    "ax4.set_ylim(0,50)\n",
    "plt.show()"
   ]
  },
  {
   "cell_type": "markdown",
   "metadata": {},
   "source": [
    "## Multiple box diagrams ##\n"
   ]
  },
  {
   "cell_type": "markdown",
   "metadata": {},
   "source": [
    "- Create a subgraph and assign the objects Figure to the variable fig and Axes to the variable ax.\n",
    "- Generate a box diagram for each column of num_cols = ['RT_user_norm', 'Metacritic_user_name', 'IMDB_norm', 'Fandango_Ratingvalue'].\n",
    "- Define for each diagram a heading corresponding to the name of the column num_cols and rotate this heading by 90 degrees.\n",
    "- Define the y-axis interval from 0 to 5.\n",
    "- Display the graph.\n"
   ]
  },
  {
   "cell_type": "code",
   "execution_count": 5,
   "metadata": {},
   "outputs": [
    {
     "data": {
      "image/png": "[encoded data removed]",
      "text/plain": [
       "<Figure size 720x432 with 4 Axes>"
      ]
     },
     "metadata": {
      "needs_background": "light"
     },
     "output_type": "display_data"
    }
   ],
   "source": [
    "fig, (ax1,ax2,ax3,ax4) = plt.subplots(nrows=4,ncols=1,figsize =(10,6))\n",
    "ax1.boxplot(norm_reviews[\"RT_user_norm\"])\n",
    "ax1.set_ylim(0,5)\n",
    "ax1.set_title('RT_user_norm')\n",
    "ax2.boxplot(norm_reviews[\"Metacritic_User\"])\n",
    "#ax2.set_ylim(0,5)\n",
    "ax2.set_title('Metacritic_user_name')\n",
    "ax3.boxplot(norm_reviews[\"IMDB_norm\"])\n",
    "ax3.set_ylim(0,5)\n",
    "ax3.set_title('IMDB_norm')\n",
    "ax4.boxplot(norm_reviews[\"Fandango_Ratingvalue\"])\n",
    "ax4.set_ylim(0,5)\n",
    "ax4.set_title('Fandango_Ratingvalue')\n",
    "plt.tight_layout()\n",
    "plt.show()"
   ]
  },
  {
   "cell_type": "code",
   "execution_count": 7,
   "metadata": {},
   "outputs": [
    {
     "data": {
      "text/plain": [
       "'C:\\\\Users\\\\deept'"
      ]
     },
     "execution_count": 7,
     "metadata": {},
     "output_type": "execute_result"
    }
   ],
   "source": [
    "pwd"
   ]
  },
  {
   "cell_type": "code",
   "execution_count": null,
   "metadata": {},
   "outputs": [],
   "source": []
  }
 ],
 "metadata": {
  "kernelspec": {
   "display_name": "Python 3",
   "language": "python",
   "name": "python3"
  },
  "language_info": {
   "codemirror_mode": {
    "name": "ipython",
    "version": 3
   },
   "file_extension": ".py",
   "mimetype": "text/x-python",
   "name": "python",
   "nbconvert_exporter": "python",
   "pygments_lexer": "ipython3",
   "version": "3.7.6"
  }
 },
 "nbformat": 4,
 "nbformat_minor": 2
}
